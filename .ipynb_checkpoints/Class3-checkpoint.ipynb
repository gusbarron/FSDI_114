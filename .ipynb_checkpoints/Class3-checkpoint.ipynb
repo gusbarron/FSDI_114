{
 "cells": [
  {
   "cell_type": "markdown",
   "id": "f12b2816",
   "metadata": {},
   "source": [
    "# Balanced parenthesis check\n",
    "\n",
    "### Given a string of opening and closing parentheses, check whether it is balanced.\n",
    "### There are 3 types of parenthesis here: round (), square brackets[], and curly brackets(braces){}\n",
    "\n",
    "_Assumptions_\n",
    "1. assume the string doesnt contain any other character other than the ones mentioned above (no spaces, words or numbers).\n",
    "2. Balanced parentheses require every opening parentheses to be closed in the reverse order opened.\n",
    "\n",
    "Examples: \n",
    "balance_check(\"([{}])\") should return True\n",
    "balance_check(\"({{}})\") should return False\n",
    "\n",
    "similarly:\n",
    "\"()()(){{{}}}\" is a balanced string\n",
    "\"()(){]((()))\" is not\n",
    "\n",
    "Instructions\n",
    "Create a function called \"balance_check\" that takes a string as its parameter and returns True if it is balanced considering the criteria mentioned above; False otherwise"
   ]
  },
  {
   "cell_type": "code",
   "execution_count": null,
   "id": "3e9c8303",
   "metadata": {},
   "outputs": [],
   "source": [
    "def balance_check(s):\n",
    "    if len(s) % 2 != 0:\n",
    "        return False\n",
    "    opening = set[\"([{\"]\n",
    "    matches = set([\n",
    "        (\"(\", \")\"),\n",
    "        (\"[\", \"]\"),\n",
    "        (\"{\", \"}\")\n",
    "    ])\n",
    "    stack = []\n",
    "    for paren in s:\n",
    "        if paren in opening:\n",
    "            stack.append(paren)\n",
    "        else:\n",
    "            if stack == []:\n",
    "                return False\n",
    "            last_open = stack.pop()\n",
    "            if (last_open, paren) not in matches:\n",
    "                return False\n",
    "    return stack == []"
   ]
  },
  {
   "cell_type": "code",
   "execution_count": null,
   "id": "00847b72",
   "metadata": {},
   "outputs": [],
   "source": [
    "balance_check(\"(((([[[{{{}}}]]]))))\")"
   ]
  },
  {
   "cell_type": "code",
   "execution_count": null,
   "id": "9ff65e30",
   "metadata": {},
   "outputs": [],
   "source": [
    "class Node:\n",
    "    def __init__(self, data):\n",
    "        self.next = None\n",
    "        self.data = data"
   ]
  },
  {
   "cell_type": "code",
   "execution_count": null,
   "id": "0bcaefdf",
   "metadata": {},
   "outputs": [],
   "source": [
    "class SinglyLinkedList:\n",
    "    def __init__(self):\n",
    "        self.head = None\n",
    "        \n",
    "    def append(slef, element):\n",
    "        if not self.head:\n",
    "            self.head = Node(element)\n",
    "            else: \n",
    "                current = self.head\n",
    "                while current.next:\n",
    "                    current = current.next\n",
    "                current.next = Node(element)\n",
    "                \n",
    "    def insert(self, index, element):\n",
    "        #Implement the insert method which adds a new Node with \"element\" set as its data attribute\n",
    "        # before a given index (also a parameter to this metod).\n",
    "        pass"
   ]
  }
 ],
 "metadata": {
  "kernelspec": {
   "display_name": "Python 3 (ipykernel)",
   "language": "python",
   "name": "python3"
  },
  "language_info": {
   "codemirror_mode": {
    "name": "ipython",
    "version": 3
   },
   "file_extension": ".py",
   "mimetype": "text/x-python",
   "name": "python",
   "nbconvert_exporter": "python",
   "pygments_lexer": "ipython3",
   "version": "3.9.13"
  }
 },
 "nbformat": 4,
 "nbformat_minor": 5
}
